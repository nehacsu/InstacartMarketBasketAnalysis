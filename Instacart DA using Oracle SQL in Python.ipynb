{
 "cells": [
  {
   "cell_type": "markdown",
   "metadata": {},
   "source": [
    "### This project is based on Insta cart data set. The data source is https://www.kaggle.com/c/instacart-market-basket-analysis/data. As this was a huge data set consisting of 3 million orders. There were around 10 products in one order, so the total rows the order file was around 30 million. So, I connected this file to Oracle database and then access the data set with the help of SQL queries. The results were visualized using matplotlib liabrary of the python. This dataset consist of the below files.\n",
    "\n",
    "Aisles.csv- Aisle id and the name of the aisle\n",
    "\n",
    "Department.csv-Department name and its corresponding id.\n",
    "\n",
    "Products.csv- Product id, Product name and its corresponding department and aisle\n",
    "\n",
    "Orders.csv- Orderid, userid, odernumber, which day of the week order was place and which hour of the day it was placed.\n",
    "\n",
    "Order_Product table- details of 3 million orders, One order was having approximate 10 product in it.\n"
   ]
  },
  {
   "cell_type": "code",
   "execution_count": 1,
   "metadata": {},
   "outputs": [],
   "source": [
    "#Oracle connection setup\n",
    "import cx_Oracle\n",
    "connection = cx_Oracle.connect('nehauser/neha123')\n",
    "cursor = connection.cursor()"
   ]
  },
  {
   "cell_type": "markdown",
   "metadata": {},
   "source": [
    "### For the demo purpose we have kept the limit. As this data set is very large it will take a lot of time to upload it into Oracle data base."
   ]
  },
  {
   "cell_type": "code",
   "execution_count": 2,
   "metadata": {},
   "outputs": [],
   "source": [
    "limit=10000"
   ]
  },
  {
   "cell_type": "markdown",
   "metadata": {},
   "source": [
    "# Create Tables"
   ]
  },
  {
   "cell_type": "code",
   "execution_count": 3,
   "metadata": {},
   "outputs": [
    {
     "name": "stdout",
     "output_type": "stream",
     "text": [
      "dropped\n",
      "Table created\n"
     ]
    }
   ],
   "source": [
    "#create aisle table\n",
    "try:\n",
    "    query_String = \"drop table aisles_t cascade constraints\"\n",
    "    cursor.execute(query_String)\n",
    "    print \"dropped\"\n",
    "except:\n",
    "    print \"already dropped\"\n",
    "    \n",
    "try:\n",
    "    query_String=\"Create table aisles_t (aisles_id number not null,aisles varchar(50),constraint aisles_id_PK PRIMARY KEY (aisles_id))\"\n",
    "    cursor.execute(query_String)\n",
    "    print\"Table created\"\n",
    "except:\n",
    "    print\"Table already there\"\n",
    "\n",
    "cursor.execute(\"commit\")\n"
   ]
  },
  {
   "cell_type": "markdown",
   "metadata": {},
   "source": [
    "# Insert Data"
   ]
  },
  {
   "cell_type": "code",
   "execution_count": 4,
   "metadata": {},
   "outputs": [
    {
     "name": "stdout",
     "output_type": "stream",
     "text": [
      "Number of successful records are 135\n"
     ]
    }
   ],
   "source": [
    "#insert data into aisles table\n",
    "import csv\n",
    "with open('aisles.csv') as csv_file:\n",
    "    csv_reader = csv.reader(csv_file, delimiter=',')\n",
    "    count=0\n",
    "    for row in csv_reader:\n",
    "        if count==0:\n",
    "            count=1\n",
    "            continue\n",
    "        query_String=\"Insert into aisles_t(aisles_id,aisles) values(\" + row[0] + \",\" + \"'\" + row[1]+ \"'\" +\")\"\n",
    "        cursor.execute(query_String)\n",
    "        count=count+1\n",
    "cursor.execute(\"commit\")\n",
    "print \"Number of successful records are \"+str(count)"
   ]
  },
  {
   "cell_type": "markdown",
   "metadata": {},
   "source": [
    " # Create Table"
   ]
  },
  {
   "cell_type": "code",
   "execution_count": 5,
   "metadata": {},
   "outputs": [
    {
     "name": "stdout",
     "output_type": "stream",
     "text": [
      "Droped\n",
      "Table created\n"
     ]
    }
   ],
   "source": [
    "#create department table\n",
    "try:\n",
    "    query_String = \"drop table department_t cascade constraints\"\n",
    "    cursor.execute(query_String)\n",
    "    print \"Droped\"\n",
    "except:\n",
    "    print \"Already droped\"\n",
    "    \n",
    "    \n",
    "try:\n",
    "    query_String=\"Create table department_t (department_id number not null,dept_name varchar(50), constraint department_id_PK PRIMARY KEY (department_id))\"\n",
    "    cursor.execute(query_String)\n",
    "    print\"Table created\"\n",
    "except:\n",
    "    print\"Table already there\"\n",
    "\n",
    "cursor.execute(\"commit\")\n"
   ]
  },
  {
   "cell_type": "markdown",
   "metadata": {},
   "source": [
    "# Insert Data"
   ]
  },
  {
   "cell_type": "code",
   "execution_count": 6,
   "metadata": {},
   "outputs": [
    {
     "name": "stdout",
     "output_type": "stream",
     "text": [
      "Number of successful records are 22\n"
     ]
    }
   ],
   "source": [
    "#insert data into department table\n",
    "with open('departments.csv') as csv_file:\n",
    "    csv_reader = csv.reader(csv_file, delimiter=',')\n",
    "    count=0\n",
    "    for row in csv_reader:\n",
    "        if count==0:\n",
    "            count=1\n",
    "            continue\n",
    "        query_String=\"Insert into department_t(department_id,dept_name) values(\" + row[0] + \",\" + \"'\" + row[1]+ \"'\" +\")\"\n",
    "        cursor.execute(query_String)\n",
    "        count=count+1\n",
    "cursor.execute(\"commit\")\n",
    "print \"Number of successful records are \"+str(count)"
   ]
  },
  {
   "cell_type": "markdown",
   "metadata": {},
   "source": [
    "# Create Table"
   ]
  },
  {
   "cell_type": "code",
   "execution_count": 7,
   "metadata": {},
   "outputs": [
    {
     "name": "stdout",
     "output_type": "stream",
     "text": [
      "Droped\n",
      "Table created\n"
     ]
    }
   ],
   "source": [
    "#create product table\n",
    "try:\n",
    "    query_String = \"drop table products_t cascade constraints\"\n",
    "    cursor.execute(query_String)\n",
    "    print \"Droped\"\n",
    "except:\n",
    "    print \"Already droped\"\n",
    "    \n",
    "cursor.execute(\"commit\")\n",
    "\n",
    "try:\n",
    "    query_String =\"\"\"CREATE TABLE products_t\n",
    "             (product_id         number    NOT NULL,\n",
    "              product_name            VARCHAR(250)  ,\n",
    "              aisles_id            number    NOT NULL,\n",
    "              department_id       number    NOT NULL,\n",
    "CONSTRAINT product_t_PK PRIMARY KEY (product_id),\n",
    "CONSTRAINT product_t_FK FOREIGN KEY (aisles_id) REFERENCES aisles_t(aisles_id),\n",
    "CONSTRAINT product_t_FK2 FOREIGN KEY (department_id) REFERENCES department_t(department_id))\"\"\"\n",
    "    cursor.execute(query_String)\n",
    "    print\"Table created\"\n",
    "except:\n",
    "    print\"Table already there\"\n",
    "\n",
    "cursor.execute(\"commit\")\n"
   ]
  },
  {
   "cell_type": "markdown",
   "metadata": {},
   "source": [
    "# Insert Data"
   ]
  },
  {
   "cell_type": "code",
   "execution_count": 8,
   "metadata": {},
   "outputs": [
    {
     "name": "stdout",
     "output_type": "stream",
     "text": [
      "Number of successful records are 49689\n"
     ]
    }
   ],
   "source": [
    "#insert data into product table\n",
    "import csv\n",
    "import sys\n",
    "with open('products.csv') as csv_file:\n",
    "    csv_reader = csv.reader(csv_file, delimiter=',')\n",
    "    count=0\n",
    "    for row in csv_reader:\n",
    "        if count==0:\n",
    "            count=1\n",
    "            continue\n",
    "        product_id=row[0]\n",
    "        product_name=row[1].replace(\"'\",\"\")\n",
    "        aisles_id=row[2]\n",
    "        department_id=row[3]\n",
    "        query_String=\"Insert into products_t(product_id,product_name,aisles_id,department_id) values(\" + product_id + \",\" + \"'\" + product_name + \"'\" + \",\" + aisles_id+ \",\" + department_id+\")\"\n",
    "        try: \n",
    "            cursor.execute(query_String)\n",
    "            count=count+1\n",
    "        except :\n",
    "            print \"skipped\" , query_String , sys.exc_info()[0]\n",
    "        if count%10000==0:\n",
    "            cursor.execute(\"commit\")\n",
    "cursor.execute(\"commit\")\n",
    "print \"Number of successful records are \"+str(count)"
   ]
  },
  {
   "cell_type": "markdown",
   "metadata": {},
   "source": [
    "# Create Table"
   ]
  },
  {
   "cell_type": "code",
   "execution_count": 9,
   "metadata": {},
   "outputs": [
    {
     "name": "stdout",
     "output_type": "stream",
     "text": [
      "Droped\n",
      "Table created\n"
     ]
    }
   ],
   "source": [
    "#create order_products_prior table\n",
    "try:\n",
    "    query_String = \"drop table order_products__prior_t cascade constraints\"\n",
    "    cursor.execute(query_String)\n",
    "    print \"Droped\"\n",
    "except:\n",
    "    print \"Already droped\"\n",
    "    \n",
    "cursor.execute(\"commit\")\n",
    "\n",
    "try:\n",
    "    query_String =\"\"\"CREATE TABLE order_products__prior_t\n",
    "             (order_id           number      NOT NULL,\n",
    "              product_id         number      NOT NULL,\n",
    "              add_to_cart_order  number      NOT NULL,\n",
    "              reordered          number      NOT NULL,\n",
    "              CONSTRAINT order_products__prior_PK PRIMARY KEY (order_id,product_id))\"\"\"\n",
    "    cursor.execute(query_String)\n",
    "    print\"Table created\"\n",
    "except:\n",
    "    print\"Table already there\",sys.exc_info()[0]\n",
    "\n",
    "cursor.execute(\"commit\")\n"
   ]
  },
  {
   "cell_type": "markdown",
   "metadata": {},
   "source": [
    "# Insert Data"
   ]
  },
  {
   "cell_type": "code",
   "execution_count": 17,
   "metadata": {},
   "outputs": [],
   "source": [
    "#insert data into order_products_prior table\n",
    "\n",
    "import csv\n",
    "import sys\n",
    "with open('order_products__prior.csv') as csv_file:\n",
    "    csv_reader = csv.reader(csv_file, delimiter=',')\n",
    "    count=0\n",
    "    for row in csv_reader:\n",
    "        if count==0:\n",
    "            count=1\n",
    "            continue\n",
    "        order_id=row[0]\n",
    "        product_id=row[1]\n",
    "        add_to_cart_order=row[2]\n",
    "        reordered=row[3]\n",
    "        query_String=\"Insert into order_products__prior_t(order_id,product_id,add_to_cart_order,reordered) values(\" + order_id + \",\" + \"'\" + product_id + \"'\" + \",\" + add_to_cart_order+ \",\" + reordered+\")\"\n",
    "        try: \n",
    "            count=count+1\n",
    "            cursor.execute(query_String)\n",
    "        except :\n",
    "            print \"skipped\" , query_String , sys.exc_info()[0]\n",
    "        if count%10000==0:\n",
    "            cursor.execute(\"commit\")\n",
    "            #print count\n",
    "cursor.execute(\"commit\")\n"
   ]
  },
  {
   "cell_type": "markdown",
   "metadata": {},
   "source": [
    "# Create Table"
   ]
  },
  {
   "cell_type": "code",
   "execution_count": 11,
   "metadata": {},
   "outputs": [
    {
     "name": "stdout",
     "output_type": "stream",
     "text": [
      "Droped\n",
      "Table created\n"
     ]
    }
   ],
   "source": [
    "#create orders table\n",
    "try:\n",
    "    query_String = \"drop table orders_t\"\n",
    "    cursor.execute(query_String)\n",
    "    print \"Droped\"\n",
    "except:\n",
    "    print \"Already droped\"\n",
    "    \n",
    "cursor.execute(\"commit\")\n",
    "\n",
    "try:\n",
    "    query_String =\"\"\"CREATE TABLE orders_t\n",
    "             (order_id             number      NOT NULL,\n",
    "              user_id              number      NOT NULL,\n",
    "              eval_set             varchar(50)              ,\n",
    "              order_number         number      NOT NULL,\n",
    "              order_dow            number      NOT NULL,\n",
    "              order_hour_of_day    number      NOT NULL,\n",
    "              days_since_prior_order number    Null         ,\n",
    "CONSTRAINT orders_t_PK PRIMARY KEY (order_id))\"\"\"\n",
    "\n",
    "    cursor.execute(query_String)\n",
    "    print\"Table created\"\n",
    "except:\n",
    "    print\"Table already there\",sys.exc_info()[0]\n",
    "\n",
    "cursor.execute(\"commit\")\n"
   ]
  },
  {
   "cell_type": "markdown",
   "metadata": {},
   "source": [
    "# Insert Data"
   ]
  },
  {
   "cell_type": "code",
   "execution_count": null,
   "metadata": {},
   "outputs": [],
   "source": [
    "import csv\n",
    "import sys\n",
    "with open('orders.csv') as csv_file:\n",
    "    csv_reader = csv.reader(csv_file, delimiter=',')\n",
    "    count=0\n",
    "    for row in csv_reader:\n",
    "        if count==0:\n",
    "            count=1\n",
    "            continue\n",
    "        order_id=row[0]\n",
    "        user_id=row[1]\n",
    "        eval_set=row[2]\n",
    "        order_number=row[3]\n",
    "        order_dow=row[4]\n",
    "        order_hour_of_day=row[5]\n",
    "        days_since_prior_order=row[6]\n",
    "        if row[6]==\"\":\n",
    "            query_String=\"Insert into orders_t(order_id,user_id,eval_set,order_number,order_dow,order_hour_of_day) values(\" + order_id + \",\" +  user_id + \",\" + \"'\" + eval_set+\"'\"+\",\"+ order_number +\",\" + order_dow + \",\"+ order_hour_of_day+\")\"\n",
    "        else:\n",
    "            query_String=\"Insert into orders_t(order_id,user_id,eval_set,order_number,order_dow,order_hour_of_day,days_since_prior_order) values(\" + order_id + \",\" +  user_id + \",\" + \"'\" + eval_set+\"'\"+\",\"+ order_number +\",\" + order_dow + \",\"+ order_hour_of_day+ \",\"+days_since_prior_order+ \")\"\n",
    "        try: \n",
    "            count=count+1\n",
    "            cursor.execute(query_String)\n",
    "        except :\n",
    "            print \"skipped\" , query_String , sys.exc_info()[0]\n",
    "            \n",
    "        if count %10000==0:\n",
    "            cursor.execute(\"commit\")\n",
    "            #print# count\n",
    "cursor.execute(\"commit\")\n"
   ]
  },
  {
   "cell_type": "markdown",
   "metadata": {},
   "source": [
    "# Data Visualization"
   ]
  },
  {
   "cell_type": "code",
   "execution_count": 2,
   "metadata": {},
   "outputs": [],
   "source": [
    "#which department has howmany orders\n",
    "query_string=\"\"\"SELECT count_order_id,\n",
    "                       did,dept_name\n",
    "                FROM(select count(order_id) as count_order_id,\n",
    "                     department_id as did\n",
    "                FROM(SELECT order_products__prior_t.order_id, \n",
    "                     products_t.department_id FROM order_products__prior_t,\n",
    "                     products_t WHERE products_t.product_id = order_products__prior_t.product_id)\n",
    "                GROUP BY department_id),department_t where did = department_t.department_id\"\"\"\n",
    "targetfile = 'results\\Q2_1.csv'"
   ]
  },
  {
   "cell_type": "code",
   "execution_count": 3,
   "metadata": {},
   "outputs": [],
   "source": [
    "data = cursor.execute(query_string)\n",
    "results =  data.fetchall()\n",
    "import csv\n",
    "with open(targetfile, 'wb') as csvfile:\n",
    "    datawriter = csv.writer(csvfile, delimiter=',')\n",
    "    datawriter.writerow([\"Order_Count\",\"Dept_ID\",\"Dept_Name\"])\n",
    "    for line in results:\n",
    "        datawriter.writerow(list(line))"
   ]
  },
  {
   "cell_type": "code",
   "execution_count": 4,
   "metadata": {},
   "outputs": [],
   "source": [
    "# which top 5 AISLES haVE most orders\n",
    "query_string=\"\"\" select aisles,id,cnt from(select aisles_id as id,cnt from (select * from(select aisles_id,cnt from (select products_t.aisles_id,count(order_products__prior_t.order_id) as cnt from products_t,order_products__prior_t where products_t.product_id=order_products__prior_t.product_id group by aisles_id) order by cnt desc))),aisles_t where aisles_t.aisles_id=id order by cnt desc\"\"\"\n",
    "\n",
    "targetfile='results\\Aisles_ordered.csv'\n",
    "data = cursor.execute(query_string)\n",
    "results =  data.fetchall()\n",
    "import csv\n",
    "with open(targetfile, 'wb') as csvfile:\n",
    "    datawriter = csv.writer(csvfile, delimiter=',')\n",
    "    for line in results:\n",
    "        datawriter.writerow(list(line))"
   ]
  },
  {
   "cell_type": "code",
   "execution_count": 5,
   "metadata": {},
   "outputs": [],
   "source": [
    "#Top 20 most ordered product\n",
    "query_string=\"\"\" select product_name,id,cnt from (select * from(select product_id as id,count(order_id)as cnt from ORDER_PRODUCTS__PRIOR_T group by product_id order by cnt desc) where rownum<=20),products_t where products_t.product_id=id\"\"\"\n",
    "  \n",
    "targetfile='results\\products_mostOrdered.csv'\n",
    "data = cursor.execute(query_string)\n",
    "results =  data.fetchall()\n",
    "import csv\n",
    "with open(targetfile, 'wb') as csvfile:\n",
    "    datawriter = csv.writer(csvfile, delimiter=',')\n",
    "    for line in results:\n",
    "        datawriter.writerow(list(line))"
   ]
  },
  {
   "cell_type": "code",
   "execution_count": 6,
   "metadata": {},
   "outputs": [],
   "source": [
    "#Busiest time\n",
    "query_string=\"\"\"select count(order_id)as order_count, order_dow, order_hour_of_day from orders_t group by order_dow, order_hour_of_day\"\"\"\n",
    "\n",
    "targetfile='results\\BusiestTime.csv'\n",
    "data = cursor.execute(query_string)\n",
    "results =  data.fetchall()\n",
    "import csv\n",
    "with open(targetfile, 'wb') as csvfile:\n",
    "    datawriter = csv.writer(csvfile, delimiter=',')\n",
    "    for line in results:\n",
    "        datawriter.writerow(list(line))"
   ]
  },
  {
   "cell_type": "code",
   "execution_count": 6,
   "metadata": {},
   "outputs": [],
   "source": [
    "#how many orders are there which have 1 product,2 product,3 product and like that....\n",
    "import pandas as pd\n",
    "query_string=\"\"\"select count(order_id),cnt from (select order_id,count(product_id)as cnt from order_products__prior_t  group by order_id) group by cnt\"\"\"\n",
    "\n",
    "targetfile='results\\order_product.csv'\n",
    "data = cursor.execute(query_string)\n",
    "results =  data.fetchall()\n",
    "import csv\n",
    "with open(targetfile, 'wb') as csvfile:\n",
    "    datawriter = csv.writer(csvfile, delimiter=',')\n",
    "    for line in results:\n",
    "        datawriter.writerow(list(line))\n",
    "dataf2=pd.DataFrame(results)"
   ]
  },
  {
   "cell_type": "code",
   "execution_count": 14,
   "metadata": {},
   "outputs": [
    {
     "data": {
      "image/png": "[encoded data removed]",
      "text/plain": [
       "<Figure size 1080x720 with 1 Axes>"
      ]
     },
     "metadata": {},
     "output_type": "display_data"
    }
   ],
   "source": [
    "from matplotlib import pyplot as plt\n",
    "from pylab import *\n",
    "import pandas as pd\n",
    "fsize=16\n",
    "fig = plt.figure(figsize=(15,10))\n",
    "plt.bar(dataf2.iloc[:,1],dataf2.iloc[:,0],linewidth=5, color='coral')\n",
    "#plt.xticks(datanp[:,1], rotation='90', fontsize=fsize)\n",
    "plt.xlim(0,50)\n",
    "plt.yticks(fontsize=fsize)\n",
    "\n",
    "plt.xlabel(\"Product Count\",fontsize=fsize)\n",
    "plt.ylabel(\"No. of Orders\",fontsize=fsize)\n",
    "plt.title(\"Products in the Orders\",fontsize=fsize)\n",
    "\n",
    "# Again, this doesn't work in interactive mode.\n",
    "[i.set_linewidth(3) for i in gca().spines.itervalues()]\n",
    "plt.savefig('neha.png',bbox_inches='tight')\n",
    "plt.show()"
   ]
  },
  {
   "cell_type": "code",
   "execution_count": 12,
   "metadata": {},
   "outputs": [],
   "source": [
    "#Top 20 most ordered product plot here\n",
    "import pandas as pd\n",
    "query_string=\"\"\" select product_name,id,cnt from (select * from(select product_id as id,count(order_id)as cnt from ORDER_PRODUCTS__PRIOR_T group by product_id order by cnt desc) where rownum<=20),products_t where products_t.product_id=id\"\"\"\n",
    "  \n",
    "targetfile='results\\products_mostOrdered.csv'\n",
    "data = cursor.execute(query_string)\n",
    "results =  data.fetchall()\n",
    "resultsDf=pd.DataFrame(results)\n",
    "\n"
   ]
  },
  {
   "cell_type": "code",
   "execution_count": 15,
   "metadata": {},
   "outputs": [
    {
     "data": {
      "image/png": "[encoded data removed]",
      "text/plain": [
       "<Figure size 1080x720 with 1 Axes>"
      ]
     },
     "metadata": {},
     "output_type": "display_data"
    }
   ],
   "source": [
    "fsize=16\n",
    "fig = plt.figure(figsize=(15,10))\n",
    "plt.bar(resultsDf.iloc[:,0],resultsDf.iloc[:,2],linewidth=5, color='coral')\n",
    "plt.xticks(resultsDf.iloc[:,0],rotation='90', fontsize=fsize)\n",
    "#plt.yticks(fontsize=fsize)\n",
    "plt.xlabel(\"Product Name\",fontsize=fsize)\n",
    "plt.ylabel(\"No. of Orders\",fontsize=fsize)\n",
    "plt.title(\"Product Wise No. of Orders\",fontsize=fsize)\n",
    "\n",
    "# Again, this doesn't work in interactive mode.\n",
    "#[i.set_linewidth(3) for i in gca().spines.itervalues()]\n",
    "plt.savefig('neha1.png',bbox_inches='tight')\n",
    "plt.show()\n"
   ]
  },
  {
   "cell_type": "code",
   "execution_count": null,
   "metadata": {},
   "outputs": [],
   "source": []
  }
 ],
 "metadata": {
  "kernelspec": {
   "display_name": "Python 2",
   "language": "python",
   "name": "python2"
  },
  "language_info": {
   "codemirror_mode": {
    "name": "ipython",
    "version": 2
   },
   "file_extension": ".py",
   "mimetype": "text/x-python",
   "name": "python",
   "nbconvert_exporter": "python",
   "pygments_lexer": "ipython2",
   "version": "2.7.13"
  }
 },
 "nbformat": 4,
 "nbformat_minor": 2
}
